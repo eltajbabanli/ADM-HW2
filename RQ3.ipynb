{
 "cells": [
  {
   "cell_type": "markdown",
   "metadata": {},
   "source": [
    "### Exploratory Data Analysis [RQ3]\n",
    "* Do the all trips last the same? Let's put our attention on the distribution of trip's duration. \n",
    "* Provide a plot for it and comment what you see. \n",
    "* Run this analysis for NYC and for each borough (and obviously comment the results!)."
   ]
  },
  {
   "cell_type": "code",
   "execution_count": 10,
   "metadata": {},
   "outputs": [],
   "source": [
    "import pandas as pd\n",
    "import matplotlib.pyplot as plt\n",
    "import seaborn as sns\n",
    "from scipy import stats\n",
    "\n",
    "#import functions from our file\n",
    "from rq3_functions import check_types_pretty, calculate_trip_duration "
   ]
  },
  {
   "cell_type": "code",
   "execution_count": 3,
   "metadata": {},
   "outputs": [],
   "source": [
    "taxi_zone_lookup = pd.read_csv(\"taxi_zone_lookup.csv\") #reading csv file"
   ]
  },
  {
   "cell_type": "markdown",
   "metadata": {},
   "source": [
    "#### Let's check how looks like taxi_zone_lookup dataframe"
   ]
  },
  {
   "cell_type": "code",
   "execution_count": 4,
   "metadata": {},
   "outputs": [
    {
     "data": {
      "text/html": [
       "<div>\n",
       "<style scoped>\n",
       "    .dataframe tbody tr th:only-of-type {\n",
       "        vertical-align: middle;\n",
       "    }\n",
       "\n",
       "    .dataframe tbody tr th {\n",
       "        vertical-align: top;\n",
       "    }\n",
       "\n",
       "    .dataframe thead th {\n",
       "        text-align: right;\n",
       "    }\n",
       "</style>\n",
       "<table border=\"1\" class=\"dataframe\">\n",
       "  <thead>\n",
       "    <tr style=\"text-align: right;\">\n",
       "      <th></th>\n",
       "      <th>LocationID</th>\n",
       "      <th>Borough</th>\n",
       "      <th>Zone</th>\n",
       "      <th>service_zone</th>\n",
       "    </tr>\n",
       "  </thead>\n",
       "  <tbody>\n",
       "    <tr>\n",
       "      <th>0</th>\n",
       "      <td>1</td>\n",
       "      <td>EWR</td>\n",
       "      <td>Newark Airport</td>\n",
       "      <td>EWR</td>\n",
       "    </tr>\n",
       "    <tr>\n",
       "      <th>1</th>\n",
       "      <td>2</td>\n",
       "      <td>Queens</td>\n",
       "      <td>Jamaica Bay</td>\n",
       "      <td>Boro Zone</td>\n",
       "    </tr>\n",
       "    <tr>\n",
       "      <th>2</th>\n",
       "      <td>3</td>\n",
       "      <td>Bronx</td>\n",
       "      <td>Allerton/Pelham Gardens</td>\n",
       "      <td>Boro Zone</td>\n",
       "    </tr>\n",
       "    <tr>\n",
       "      <th>3</th>\n",
       "      <td>4</td>\n",
       "      <td>Manhattan</td>\n",
       "      <td>Alphabet City</td>\n",
       "      <td>Yellow Zone</td>\n",
       "    </tr>\n",
       "    <tr>\n",
       "      <th>4</th>\n",
       "      <td>5</td>\n",
       "      <td>Staten Island</td>\n",
       "      <td>Arden Heights</td>\n",
       "      <td>Boro Zone</td>\n",
       "    </tr>\n",
       "  </tbody>\n",
       "</table>\n",
       "</div>"
      ],
      "text/plain": [
       "   LocationID        Borough                     Zone service_zone\n",
       "0           1            EWR           Newark Airport          EWR\n",
       "1           2         Queens              Jamaica Bay    Boro Zone\n",
       "2           3          Bronx  Allerton/Pelham Gardens    Boro Zone\n",
       "3           4      Manhattan            Alphabet City  Yellow Zone\n",
       "4           5  Staten Island            Arden Heights    Boro Zone"
      ]
     },
     "execution_count": 4,
     "metadata": {},
     "output_type": "execute_result"
    }
   ],
   "source": [
    "taxi_zone_lookup.head()"
   ]
  },
  {
   "cell_type": "markdown",
   "metadata": {},
   "source": [
    "**What are the data types in each column?**"
   ]
  },
  {
   "cell_type": "code",
   "execution_count": 5,
   "metadata": {},
   "outputs": [
    {
     "name": "stdout",
     "output_type": "stream",
     "text": [
      "* LocationID        \t\t | <class 'numpy.int64'> \n",
      "* Borough           \t\t | <class 'str'> \n",
      "* Zone              \t\t | <class 'str'> \n",
      "* service_zone      \t\t | <class 'str'> \n"
     ]
    }
   ],
   "source": [
    "check_types_pretty(taxi_zone_lookup)"
   ]
  },
  {
   "cell_type": "markdown",
   "metadata": {},
   "source": [
    "** We are especially interested in the information about \"Borough\".**"
   ]
  },
  {
   "cell_type": "code",
   "execution_count": 6,
   "metadata": {},
   "outputs": [
    {
     "name": "stdout",
     "output_type": "stream",
     "text": [
      "The unique boroughs are: ['EWR' 'Queens' 'Bronx' 'Manhattan' 'Staten Island' 'Brooklyn' 'Unknown']\n"
     ]
    }
   ],
   "source": [
    "print(\"The unique boroughs are: {}\".format(taxi_zone_lookup[\"Borough\"].unique()))"
   ]
  },
  {
   "cell_type": "markdown",
   "metadata": {},
   "source": [
    "After preliminary analysis we know that there are six known boroughs, which corresponds to the LocationID column. It has also been noticed that the data contains \"Unknown\" locations."
   ]
  },
  {
   "cell_type": "markdown",
   "metadata": {},
   "source": [
    "### Monthly data analysis "
   ]
  },
  {
   "cell_type": "markdown",
   "metadata": {},
   "source": [
    "Here you can find data dictionary for Yellow taxi zone: http://www.nyc.gov/html/tlc/downloads/pdf/data_dictionary_trip_records_yellow.pdf\n",
    "\n",
    "All necessary files are located in working directory."
   ]
  },
  {
   "cell_type": "markdown",
   "metadata": {},
   "source": [
    "In order to facilitate the analysis, the most interesting columns in dataframes were selected.\n",
    "\n",
    "* **tpep_pickup_datetime** - The date and time when the meter was engaged.\n",
    "* **tpep_dropoff_datetime** -  The date and time when the meter was disengaged. \n",
    "* **PULocationID** -  TLC Taxi Zone in which the taximeter was engaged\n",
    "* **DOLocationID** -  TLC Taxi Zone in which the taximeter was disengaged\n"
   ]
  },
  {
   "cell_type": "code",
   "execution_count": 14,
   "metadata": {},
   "outputs": [],
   "source": [
    "#We create a list with the name of the .csv files\n",
    "taxi_data = ['yellow_tripdata_2018-0'+str(i)+'.csv' for i in range(1,7)]"
   ]
  },
  {
   "cell_type": "code",
   "execution_count": 38,
   "metadata": {
    "scrolled": true
   },
   "outputs": [
    {
     "name": "stderr",
     "output_type": "stream",
     "text": [
      "C:\\Users\\Asia\\Dropbox\\ADM-HM2-NY_Taxi\\rq3_functions.py:18: SettingWithCopyWarning: \n",
      "A value is trying to be set on a copy of a slice from a DataFrame.\n",
      "Try using .loc[row_indexer,col_indexer] = value instead\n",
      "\n",
      "See the caveats in the documentation: http://pandas.pydata.org/pandas-docs/stable/indexing.html#indexing-view-versus-copy\n",
      "  df['duration'] = (drop_off - pick_up).astype('timedelta64[m]')\n"
     ]
    }
   ],
   "source": [
    "# Preparing data for each month\n",
    "\n",
    "# Creating dataframe for prepared data (all months)\n",
    "trip_duration_all_months_df = pd.DataFrame(data={\"duration\":[], \"PULocationID\":[], \"DOLocationID\":[]})\n",
    "\n",
    "# Setting the path to the files\n",
    "path = \"D:/\"\n",
    "\n",
    "# Loop for each file\n",
    "for month_data in taxi_data:\n",
    "    month_data_df = pd.read_csv(path + month_data)\n",
    "    \n",
    "    # Selecting interesting columns\n",
    "    tmp_trip_duration_df = month_data_df[[\"tpep_pickup_datetime\", \"tpep_dropoff_datetime\", \"PULocationID\", \"DOLocationID\"]]\n",
    "    \n",
    "    # Calculating trip duration using before defined function\n",
    "    trip_duration_df = calculate_trip_duration(tmp_trip_duration_df)[[\"duration\", \"PULocationID\", \"DOLocationID\"]]\n",
    "    \n",
    "    # Concatenating prepared data to the dataframe with all months\n",
    "    trip_duration_all_months_df = pd.concat([trip_duration_all_months_df, trip_duration_df])\n",
    "    \n",
    "    # Deleting unnecessary variables for better memory menaging\n",
    "    del trip_duration_df, tmp_trip_duration_df, month_data_df"
   ]
  },
  {
   "cell_type": "code",
   "execution_count": 7,
   "metadata": {},
   "outputs": [],
   "source": [
    "# Saving the prepared data to a file in the working directory\n",
    "# trip_duration_all_months_df.to_csv(\"trip_duration_all_months_df.csv\")\n",
    "\n",
    "## Loading the csv file\n",
    "trip_duration_all_months_df = pd.read_csv(\"D:/trip_duration_all_months_df.csv\")"
   ]
  },
  {
   "cell_type": "code",
   "execution_count": 42,
   "metadata": {},
   "outputs": [
    {
     "data": {
      "text/html": [
       "<div>\n",
       "<style scoped>\n",
       "    .dataframe tbody tr th:only-of-type {\n",
       "        vertical-align: middle;\n",
       "    }\n",
       "\n",
       "    .dataframe tbody tr th {\n",
       "        vertical-align: top;\n",
       "    }\n",
       "\n",
       "    .dataframe thead th {\n",
       "        text-align: right;\n",
       "    }\n",
       "</style>\n",
       "<table border=\"1\" class=\"dataframe\">\n",
       "  <thead>\n",
       "    <tr style=\"text-align: right;\">\n",
       "      <th></th>\n",
       "      <th>DOLocationID</th>\n",
       "      <th>PULocationID</th>\n",
       "      <th>duration</th>\n",
       "    </tr>\n",
       "  </thead>\n",
       "  <tbody>\n",
       "    <tr>\n",
       "      <th>0</th>\n",
       "      <td>24.0</td>\n",
       "      <td>41.0</td>\n",
       "      <td>3.0</td>\n",
       "    </tr>\n",
       "    <tr>\n",
       "      <th>1</th>\n",
       "      <td>140.0</td>\n",
       "      <td>239.0</td>\n",
       "      <td>18.0</td>\n",
       "    </tr>\n",
       "    <tr>\n",
       "      <th>2</th>\n",
       "      <td>141.0</td>\n",
       "      <td>262.0</td>\n",
       "      <td>5.0</td>\n",
       "    </tr>\n",
       "    <tr>\n",
       "      <th>3</th>\n",
       "      <td>257.0</td>\n",
       "      <td>140.0</td>\n",
       "      <td>32.0</td>\n",
       "    </tr>\n",
       "    <tr>\n",
       "      <th>4</th>\n",
       "      <td>239.0</td>\n",
       "      <td>246.0</td>\n",
       "      <td>17.0</td>\n",
       "    </tr>\n",
       "  </tbody>\n",
       "</table>\n",
       "</div>"
      ],
      "text/plain": [
       "   DOLocationID  PULocationID  duration\n",
       "0          24.0          41.0       3.0\n",
       "1         140.0         239.0      18.0\n",
       "2         141.0         262.0       5.0\n",
       "3         257.0         140.0      32.0\n",
       "4         239.0         246.0      17.0"
      ]
     },
     "execution_count": 42,
     "metadata": {},
     "output_type": "execute_result"
    }
   ],
   "source": [
    "trip_duration_all_months_df.head()"
   ]
  },
  {
   "cell_type": "markdown",
   "metadata": {},
   "source": [
    "At first, we carry out the data analysis for each month separately"
   ]
  },
  {
   "cell_type": "markdown",
   "metadata": {},
   "source": [
    "The function **calculate_trip_duration** calculates the trip time in minutes and areturns df with the \"duration\" column."
   ]
  },
  {
   "cell_type": "markdown",
   "metadata": {},
   "source": [
    "_______________\n",
    "### Data filtering "
   ]
  },
  {
   "cell_type": "code",
   "execution_count": 47,
   "metadata": {},
   "outputs": [
    {
     "data": {
      "image/png": "[encoded data removed]",
      "text/plain": [
       "<Figure size 432x288 with 1 Axes>"
      ]
     },
     "metadata": {},
     "output_type": "display_data"
    }
   ],
   "source": [
    "#sns.distplot(trip_duration_all_months_df.duration, color=\"red\") #it is running more time\n",
    "ar = plt.hist(trip_duration_all_months_df.duration, bins=50, density=True)"
   ]
  },
  {
   "cell_type": "markdown",
   "metadata": {},
   "source": [
    "* We noticed there are values which are very rare and because of that the histogram above does not give as a lot of information about distribution.\n",
    "\n",
    "Lets check the most important information about this data:"
   ]
  },
  {
   "cell_type": "code",
   "execution_count": 8,
   "metadata": {},
   "outputs": [
    {
     "data": {
      "text/plain": [
       "count    5.392574e+07\n",
       "mean     1.604486e+01\n",
       "std      1.455252e+03\n",
       "min     -1.066961e+07\n",
       "50%      1.000000e+01\n",
       "60%      1.300000e+01\n",
       "70%      1.600000e+01\n",
       "80%      2.000000e+01\n",
       "90%      2.700000e+01\n",
       "95%      3.600000e+01\n",
       "99%      6.100000e+01\n",
       "max      8.852000e+03\n",
       "Name: duration, dtype: float64"
      ]
     },
     "execution_count": 8,
     "metadata": {},
     "output_type": "execute_result"
    }
   ],
   "source": [
    "trip_duration_all_months_df.duration.describe(percentiles=[0.5, 0.6, 0.7, 0.8, 0.9, 0.95, 0.99])"
   ]
  },
  {
   "cell_type": "markdown",
   "metadata": {},
   "source": [
    "* We observe that the minimum value is less than 0 minutes. It is in reality impossible (probably there was a mistake). Thus, it is reasonable to ignore values less than 0 minutes as well as equal to 0. \n",
    "* What about the upper range? We noticed that the maximum value is much higher than 99th percentile. For the further analysis we wanna ignore the outliers. \n",
    "--------------\n",
    "\n",
    "What are the percentiles for a few selected upper bounds?"
   ]
  },
  {
   "cell_type": "code",
   "execution_count": 14,
   "metadata": {},
   "outputs": [
    {
     "name": "stdout",
     "output_type": "stream",
     "text": [
      "Trip duration less than...\n",
      "50 mins -> 98.070 percentile\n",
      "60 mins -> 98.953 percentile\n",
      "70 mins -> 99.393 percentile\n",
      "80 mins -> 99.610 percentile\n",
      "90 mins -> 99.713 percentile\n",
      "100 mins -> 99.757 percentile\n",
      "110 mins -> 99.775 percentile\n",
      "120 mins -> 99.783 percentile\n",
      "130 mins -> 99.787 percentile\n",
      "140 mins -> 99.789 percentile\n"
     ]
    }
   ],
   "source": [
    "print(\"Trip duration less than...\")\n",
    "for score in range(50, 150, 10):\n",
    "    print(\"{0} mins -> {1:.3f} percentile\".format(score, stats.percentileofscore(trip_duration_all_months_df.duration, score)))"
   ]
  },
  {
   "cell_type": "markdown",
   "metadata": {},
   "source": [
    "* **It seems rational to conduct analysis for trips under 100 minutes, that represent a significant amount of data.**"
   ]
  },
  {
   "cell_type": "code",
   "execution_count": 15,
   "metadata": {},
   "outputs": [],
   "source": [
    "#Filtering data\n",
    "filtered_trip_duration_df = trip_duration_all_months_df[trip_duration_all_months_df.duration.between(0, 100, inclusive=False)]"
   ]
  },
  {
   "cell_type": "markdown",
   "metadata": {},
   "source": [
    "### Visualization\n",
    "_________________"
   ]
  },
  {
   "cell_type": "code",
   "execution_count": 18,
   "metadata": {},
   "outputs": [
    {
     "name": "stdout",
     "output_type": "stream",
     "text": [
      "Mode is: 6.0\n",
      "Mean is: 13.575269861894904\n",
      "Std is: 11.241660106412654\n"
     ]
    }
   ],
   "source": [
    "# Basic description of the 'duration' column\n",
    "print(\"Mode is: {}\".format(filtered_trip_duration_df.duration.mode()[0]))\n",
    "print(\"Mean is: {}\".format(filtered_trip_duration_df.duration.mean()))\n",
    "print(\"Std is: {}\".format(filtered_trip_duration_df.duration.std()))"
   ]
  },
  {
   "cell_type": "code",
   "execution_count": 62,
   "metadata": {},
   "outputs": [
    {
     "data": {
      "text/plain": [
       "<matplotlib.collections.LineCollection at 0x1b2c3fb2ba8>"
      ]
     },
     "execution_count": 62,
     "metadata": {},
     "output_type": "execute_result"
    },
    {
     "data": {
      "image/png": "[encoded data removed]",
      "text/plain": [
       "<Figure size 432x288 with 1 Axes>"
      ]
     },
     "metadata": {},
     "output_type": "display_data"
    }
   ],
   "source": [
    "# Plotting histogram (density) of trips duration\n",
    "h1 = plt.hist(filtered_trip_duration_df.duration, bins=100, density=True, color=\"red\")\n",
    "\n",
    "# Plotting the mean line (black)\n",
    "plt.vlines(x=13.6, color = \"black\", ymin=0, ymax=0.07)\n",
    "\n",
    "# Plotting the mode line (blue)\n",
    "plt.vlines(x=6, color = \"blue\", ymin=0, ymax=0.07)\n",
    "\n",
    "# Plotting density of data with the fitted curve -- It lasts longer!\n",
    "# sns.distplot(filtered_trip_duration_df.duration, color=\"red\")"
   ]
  },
  {
   "cell_type": "markdown",
   "metadata": {},
   "source": [
    "* It is **a right-skewed distribution**, in which the data tends to gradually taper off to a right long tail. \n",
    "\n",
    "* Outliers were filtered out previously. The data is from range (0, 100) minutes.\n",
    "* **Mean = 13.6**\n",
    "* **Standard deviation = 11.3**\n",
    "* **The mode = 6**. It means that the trips which lasts 6 minutes are very common. It seems to be reasonable.  "
   ]
  },
  {
   "cell_type": "markdown",
   "metadata": {},
   "source": [
    "### Analysis for each borough\n",
    "-------------"
   ]
  },
  {
   "cell_type": "markdown",
   "metadata": {},
   "source": [
    "* The analysis is based on __PULocationID__ - the location in which the taximeter was engaged."
   ]
  },
  {
   "cell_type": "code",
   "execution_count": 64,
   "metadata": {},
   "outputs": [],
   "source": [
    "# Merging prepared data with 'taxi_lookup_file' in order to get information about the broughs\n",
    "trip_duration_location = pd.merge(filtered_trip_duration_df, taxi_zone_lookup, left_on='PULocationID' , right_on='LocationID')"
   ]
  },
  {
   "cell_type": "code",
   "execution_count": 65,
   "metadata": {},
   "outputs": [
    {
     "data": {
      "text/html": [
       "<div>\n",
       "<style scoped>\n",
       "    .dataframe tbody tr th:only-of-type {\n",
       "        vertical-align: middle;\n",
       "    }\n",
       "\n",
       "    .dataframe tbody tr th {\n",
       "        vertical-align: top;\n",
       "    }\n",
       "\n",
       "    .dataframe thead th {\n",
       "        text-align: right;\n",
       "    }\n",
       "</style>\n",
       "<table border=\"1\" class=\"dataframe\">\n",
       "  <thead>\n",
       "    <tr style=\"text-align: right;\">\n",
       "      <th></th>\n",
       "      <th>DOLocationID</th>\n",
       "      <th>PULocationID</th>\n",
       "      <th>duration</th>\n",
       "      <th>LocationID</th>\n",
       "      <th>Borough</th>\n",
       "      <th>Zone</th>\n",
       "      <th>service_zone</th>\n",
       "    </tr>\n",
       "  </thead>\n",
       "  <tbody>\n",
       "    <tr>\n",
       "      <th>0</th>\n",
       "      <td>24.0</td>\n",
       "      <td>41</td>\n",
       "      <td>3.0</td>\n",
       "      <td>41</td>\n",
       "      <td>Manhattan</td>\n",
       "      <td>Central Harlem</td>\n",
       "      <td>Boro Zone</td>\n",
       "    </tr>\n",
       "    <tr>\n",
       "      <th>1</th>\n",
       "      <td>74.0</td>\n",
       "      <td>41</td>\n",
       "      <td>10.0</td>\n",
       "      <td>41</td>\n",
       "      <td>Manhattan</td>\n",
       "      <td>Central Harlem</td>\n",
       "      <td>Boro Zone</td>\n",
       "    </tr>\n",
       "    <tr>\n",
       "      <th>2</th>\n",
       "      <td>41.0</td>\n",
       "      <td>41</td>\n",
       "      <td>2.0</td>\n",
       "      <td>41</td>\n",
       "      <td>Manhattan</td>\n",
       "      <td>Central Harlem</td>\n",
       "      <td>Boro Zone</td>\n",
       "    </tr>\n",
       "    <tr>\n",
       "      <th>3</th>\n",
       "      <td>112.0</td>\n",
       "      <td>41</td>\n",
       "      <td>45.0</td>\n",
       "      <td>41</td>\n",
       "      <td>Manhattan</td>\n",
       "      <td>Central Harlem</td>\n",
       "      <td>Boro Zone</td>\n",
       "    </tr>\n",
       "    <tr>\n",
       "      <th>4</th>\n",
       "      <td>223.0</td>\n",
       "      <td>41</td>\n",
       "      <td>29.0</td>\n",
       "      <td>41</td>\n",
       "      <td>Manhattan</td>\n",
       "      <td>Central Harlem</td>\n",
       "      <td>Boro Zone</td>\n",
       "    </tr>\n",
       "  </tbody>\n",
       "</table>\n",
       "</div>"
      ],
      "text/plain": [
       "   DOLocationID PULocationID  duration  LocationID    Borough            Zone  \\\n",
       "0          24.0           41       3.0          41  Manhattan  Central Harlem   \n",
       "1          74.0           41      10.0          41  Manhattan  Central Harlem   \n",
       "2          41.0           41       2.0          41  Manhattan  Central Harlem   \n",
       "3         112.0           41      45.0          41  Manhattan  Central Harlem   \n",
       "4         223.0           41      29.0          41  Manhattan  Central Harlem   \n",
       "\n",
       "  service_zone  \n",
       "0    Boro Zone  \n",
       "1    Boro Zone  \n",
       "2    Boro Zone  \n",
       "3    Boro Zone  \n",
       "4    Boro Zone  "
      ]
     },
     "execution_count": 65,
     "metadata": {},
     "output_type": "execute_result"
    }
   ],
   "source": [
    "trip_duration_location.head()"
   ]
  },
  {
   "cell_type": "code",
   "execution_count": 66,
   "metadata": {},
   "outputs": [],
   "source": [
    "# Selecting the columns for \"duration - borough\" analysis. We need only two columns.\n",
    "trip_duration_borough = trip_duration_location[['duration', 'Borough']]"
   ]
  },
  {
   "cell_type": "code",
   "execution_count": 68,
   "metadata": {},
   "outputs": [
    {
     "data": {
      "text/html": [
       "<div>\n",
       "<style scoped>\n",
       "    .dataframe tbody tr th:only-of-type {\n",
       "        vertical-align: middle;\n",
       "    }\n",
       "\n",
       "    .dataframe tbody tr th {\n",
       "        vertical-align: top;\n",
       "    }\n",
       "\n",
       "    .dataframe thead tr th {\n",
       "        text-align: left;\n",
       "    }\n",
       "\n",
       "    .dataframe thead tr:last-of-type th {\n",
       "        text-align: right;\n",
       "    }\n",
       "</style>\n",
       "<table border=\"1\" class=\"dataframe\">\n",
       "  <thead>\n",
       "    <tr>\n",
       "      <th></th>\n",
       "      <th colspan=\"3\" halign=\"left\">duration</th>\n",
       "    </tr>\n",
       "    <tr>\n",
       "      <th></th>\n",
       "      <th>mean</th>\n",
       "      <th>max</th>\n",
       "      <th>count</th>\n",
       "    </tr>\n",
       "    <tr>\n",
       "      <th>Borough</th>\n",
       "      <th></th>\n",
       "      <th></th>\n",
       "      <th></th>\n",
       "    </tr>\n",
       "  </thead>\n",
       "  <tbody>\n",
       "    <tr>\n",
       "      <th>Bronx</th>\n",
       "      <td>18.424800</td>\n",
       "      <td>100.0</td>\n",
       "      <td>51396</td>\n",
       "    </tr>\n",
       "    <tr>\n",
       "      <th>Brooklyn</th>\n",
       "      <td>14.793998</td>\n",
       "      <td>100.0</td>\n",
       "      <td>667337</td>\n",
       "    </tr>\n",
       "    <tr>\n",
       "      <th>EWR</th>\n",
       "      <td>11.800609</td>\n",
       "      <td>99.0</td>\n",
       "      <td>657</td>\n",
       "    </tr>\n",
       "    <tr>\n",
       "      <th>Manhattan</th>\n",
       "      <td>12.298607</td>\n",
       "      <td>100.0</td>\n",
       "      <td>48571418</td>\n",
       "    </tr>\n",
       "    <tr>\n",
       "      <th>Queens</th>\n",
       "      <td>32.457887</td>\n",
       "      <td>100.0</td>\n",
       "      <td>3247741</td>\n",
       "    </tr>\n",
       "    <tr>\n",
       "      <th>Staten Island</th>\n",
       "      <td>25.436647</td>\n",
       "      <td>98.0</td>\n",
       "      <td>513</td>\n",
       "    </tr>\n",
       "    <tr>\n",
       "      <th>Unknown</th>\n",
       "      <td>13.247722</td>\n",
       "      <td>100.0</td>\n",
       "      <td>794003</td>\n",
       "    </tr>\n",
       "  </tbody>\n",
       "</table>\n",
       "</div>"
      ],
      "text/plain": [
       "                duration                 \n",
       "                    mean    max     count\n",
       "Borough                                  \n",
       "Bronx          18.424800  100.0     51396\n",
       "Brooklyn       14.793998  100.0    667337\n",
       "EWR            11.800609   99.0       657\n",
       "Manhattan      12.298607  100.0  48571418\n",
       "Queens         32.457887  100.0   3247741\n",
       "Staten Island  25.436647   98.0       513\n",
       "Unknown        13.247722  100.0    794003"
      ]
     },
     "execution_count": 68,
     "metadata": {},
     "output_type": "execute_result"
    }
   ],
   "source": [
    "# Basic statistics for each borough\n",
    "grouped_trip_duration_borough = trip_duration_borough.groupby(['Borough']).agg({'mean', 'max', 'count'})\n",
    "grouped_trip_duration_borough"
   ]
  },
  {
   "cell_type": "markdown",
   "metadata": {},
   "source": [
    "How it looks like in percentages? Let's see."
   ]
  },
  {
   "cell_type": "code",
   "execution_count": 70,
   "metadata": {
    "scrolled": true
   },
   "outputs": [
    {
     "data": {
      "text/html": [
       "<div>\n",
       "<style scoped>\n",
       "    .dataframe tbody tr th:only-of-type {\n",
       "        vertical-align: middle;\n",
       "    }\n",
       "\n",
       "    .dataframe tbody tr th {\n",
       "        vertical-align: top;\n",
       "    }\n",
       "\n",
       "    .dataframe thead tr th {\n",
       "        text-align: left;\n",
       "    }\n",
       "\n",
       "    .dataframe thead tr:last-of-type th {\n",
       "        text-align: right;\n",
       "    }\n",
       "</style>\n",
       "<table border=\"1\" class=\"dataframe\">\n",
       "  <thead>\n",
       "    <tr>\n",
       "      <th></th>\n",
       "      <th colspan=\"3\" halign=\"left\">duration</th>\n",
       "      <th>percentage</th>\n",
       "    </tr>\n",
       "    <tr>\n",
       "      <th></th>\n",
       "      <th>mean</th>\n",
       "      <th>max</th>\n",
       "      <th>count</th>\n",
       "      <th></th>\n",
       "    </tr>\n",
       "    <tr>\n",
       "      <th>Borough</th>\n",
       "      <th></th>\n",
       "      <th></th>\n",
       "      <th></th>\n",
       "      <th></th>\n",
       "    </tr>\n",
       "  </thead>\n",
       "  <tbody>\n",
       "    <tr>\n",
       "      <th>Bronx</th>\n",
       "      <td>18.424800</td>\n",
       "      <td>100.0</td>\n",
       "      <td>51396</td>\n",
       "      <td>0.000964</td>\n",
       "    </tr>\n",
       "    <tr>\n",
       "      <th>Brooklyn</th>\n",
       "      <td>14.793998</td>\n",
       "      <td>100.0</td>\n",
       "      <td>667337</td>\n",
       "      <td>0.012513</td>\n",
       "    </tr>\n",
       "    <tr>\n",
       "      <th>EWR</th>\n",
       "      <td>11.800609</td>\n",
       "      <td>99.0</td>\n",
       "      <td>657</td>\n",
       "      <td>0.000012</td>\n",
       "    </tr>\n",
       "    <tr>\n",
       "      <th>Manhattan</th>\n",
       "      <td>12.298607</td>\n",
       "      <td>100.0</td>\n",
       "      <td>48571418</td>\n",
       "      <td>0.910719</td>\n",
       "    </tr>\n",
       "    <tr>\n",
       "      <th>Queens</th>\n",
       "      <td>32.457887</td>\n",
       "      <td>100.0</td>\n",
       "      <td>3247741</td>\n",
       "      <td>0.060895</td>\n",
       "    </tr>\n",
       "    <tr>\n",
       "      <th>Staten Island</th>\n",
       "      <td>25.436647</td>\n",
       "      <td>98.0</td>\n",
       "      <td>513</td>\n",
       "      <td>0.000010</td>\n",
       "    </tr>\n",
       "    <tr>\n",
       "      <th>Unknown</th>\n",
       "      <td>13.247722</td>\n",
       "      <td>100.0</td>\n",
       "      <td>794003</td>\n",
       "      <td>0.014888</td>\n",
       "    </tr>\n",
       "  </tbody>\n",
       "</table>\n",
       "</div>"
      ],
      "text/plain": [
       "                duration                  percentage\n",
       "                    mean    max     count           \n",
       "Borough                                             \n",
       "Bronx          18.424800  100.0     51396   0.000964\n",
       "Brooklyn       14.793998  100.0    667337   0.012513\n",
       "EWR            11.800609   99.0       657   0.000012\n",
       "Manhattan      12.298607  100.0  48571418   0.910719\n",
       "Queens         32.457887  100.0   3247741   0.060895\n",
       "Staten Island  25.436647   98.0       513   0.000010\n",
       "Unknown        13.247722  100.0    794003   0.014888"
      ]
     },
     "execution_count": 70,
     "metadata": {},
     "output_type": "execute_result"
    }
   ],
   "source": [
    "# Calculating percentages and Adding them as a new column\n",
    "all_rows = trip_duration_borough.count()\n",
    "grouped_trip_duration_borough['percentage'] = grouped_trip_duration_borough['duration']['count'] / all_rows[0] \n",
    "grouped_trip_duration_borough"
   ]
  },
  {
   "cell_type": "markdown",
   "metadata": {},
   "source": [
    "The most trips is in Manhattan - about 91%."
   ]
  },
  {
   "cell_type": "code",
   "execution_count": 98,
   "metadata": {},
   "outputs": [
    {
     "data": {
      "text/plain": [
       "<matplotlib.axes._subplots.AxesSubplot at 0x1b2d557ffd0>"
      ]
     },
     "execution_count": 98,
     "metadata": {},
     "output_type": "execute_result"
    },
    {
     "data": {
      "image/png": "[encoded data removed]",
      "text/plain": [
       "<Figure size 1440x648 with 1 Axes>"
      ]
     },
     "metadata": {},
     "output_type": "display_data"
    }
   ],
   "source": [
    "borough_list = [\"Bronx\", \"Brooklyn\", \"EWR\", \"Manhattan\", \"Queens\", \"Staten Island\", \"Unknown\"]\n",
    "sns.barplot(grouped_trip_duration_borough.percentage, borough_list)"
   ]
  },
  {
   "cell_type": "code",
   "execution_count": 110,
   "metadata": {},
   "outputs": [
    {
     "data": {
      "text/plain": [
       "<matplotlib.axes._subplots.AxesSubplot at 0x1b40556e668>"
      ]
     },
     "execution_count": 110,
     "metadata": {},
     "output_type": "execute_result"
    },
    {
     "data": {
      "image/png": "[encoded data removed]",
      "text/plain": [
       "<Figure size 1440x648 with 1 Axes>"
      ]
     },
     "metadata": {},
     "output_type": "display_data"
    }
   ],
   "source": [
    "# Plotting the means for each borough\n",
    "sns.barplot(grouped_trip_duration_borough['duration']['mean'], borough_list)"
   ]
  },
  {
   "cell_type": "markdown",
   "metadata": {},
   "source": [
    "* In average, the longest trips are in **Queens**."
   ]
  },
  {
   "cell_type": "code",
   "execution_count": 112,
   "metadata": {},
   "outputs": [
    {
     "name": "stderr",
     "output_type": "stream",
     "text": [
      "c:\\users\\asia\\appdata\\local\\programs\\python\\python36\\lib\\site-packages\\matplotlib\\axes\\_axes.py:6462: UserWarning: The 'normed' kwarg is deprecated, and has been replaced by the 'density' kwarg.\n",
      "  warnings.warn(\"The 'normed' kwarg is deprecated, and has been \"\n"
     ]
    },
    {
     "data": {
      "image/png": "[encoded data removed]",
      "text/plain": [
       "<Figure size 432x864 with 7 Axes>"
      ]
     },
     "metadata": {},
     "output_type": "display_data"
    }
   ],
   "source": [
    "# Plotting the density histogram for each borough; method FacetGrid is doing that automatically\n",
    "g = sns.FacetGrid(trip_duration_borough, col='Borough', col_wrap=2)\n",
    "g = g.map(sns.distplot, \"duration\", kde=True) #kde=True : fitting curve\n",
    "\n",
    "# g = g.map(plt.hist, \"duration\", density=True) #histogram from matplotlib library"
   ]
  },
  {
   "cell_type": "markdown",
   "metadata": {},
   "source": [
    "* It is obvious that all trips do not last the same.\n",
    "\n",
    "* Distributions of their duration are different for each borough.\n",
    "However, the brounghs: Bronx, MAnhattan and Brooklyn seems to be quite similar"
   ]
  },
  {
   "cell_type": "code",
   "execution_count": 111,
   "metadata": {},
   "outputs": [],
   "source": [
    "#TODO: describe in details and compare distributions"
   ]
  },
  {
   "cell_type": "code",
   "execution_count": null,
   "metadata": {},
   "outputs": [],
   "source": [
    "# Make a plot of all distrbutions on one figure"
   ]
  }
 ],
 "metadata": {
  "kernelspec": {
   "display_name": "Python 3",
   "language": "python",
   "name": "python3"
  },
  "language_info": {
   "codemirror_mode": {
    "name": "ipython",
    "version": 3
   },
   "file_extension": ".py",
   "mimetype": "text/x-python",
   "name": "python",
   "nbconvert_exporter": "python",
   "pygments_lexer": "ipython3",
   "version": "3.6.4"
  }
 },
 "nbformat": 4,
 "nbformat_minor": 2
}
