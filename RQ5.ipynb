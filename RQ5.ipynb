{
 "cells": [
  {
   "cell_type": "markdown",
   "metadata": {},
   "source": [
    "#### Exploratry Data Analysis RQ5\n",
    "* Does a long distance correlate with the duration of the trip on average? \n",
    "\n",
    "* Make a plot that show the dependence between distance and duration of the trip. \n",
    "\n",
    "* Then compute the Pearson Coefficient, is it significant? Comment the results you obtain."
   ]
  },
  {
   "cell_type": "code",
   "execution_count": 1,
   "metadata": {},
   "outputs": [],
   "source": [
    "import pandas as pd\n",
    "import matplotlib.pyplot as plt\n",
    "import seaborn as sns\n",
    "\n",
    "from rq3_functions import calculate_trip_duration"
   ]
  },
  {
   "cell_type": "code",
   "execution_count": 2,
   "metadata": {},
   "outputs": [],
   "source": [
    "# -------------------------------------------\n",
    "# Reading csv file from RQ3 \n",
    "# trip_duration_df = pd.read_csv(\"trip_duration_all_months_df.csv\")"
   ]
  },
  {
   "cell_type": "code",
   "execution_count": 3,
   "metadata": {},
   "outputs": [],
   "source": [
    "# ---------------------------------------\n",
    "# month.head()"
   ]
  },
  {
   "cell_type": "markdown",
   "metadata": {},
   "source": [
    "We will analyse the columns:\n",
    "* **Trip_distance** - The elapsed trip distance in miles reported by the taximeter\n",
    "* **tpep_pickup_datetime** - The date and time when the meter was engaged.\n",
    "* **tpep_dropoff_datetime** - The date and time when the meter was disengaged. "
   ]
  },
  {
   "cell_type": "code",
   "execution_count": 4,
   "metadata": {},
   "outputs": [
    {
     "name": "stderr",
     "output_type": "stream",
     "text": [
      "C:\\Users\\Asia\\Dropbox\\ADM-HM2-NY_Taxi\\rq3_functions.py:18: SettingWithCopyWarning: \n",
      "A value is trying to be set on a copy of a slice from a DataFrame.\n",
      "Try using .loc[row_indexer,col_indexer] = value instead\n",
      "\n",
      "See the caveats in the documentation: http://pandas.pydata.org/pandas-docs/stable/indexing.html#indexing-view-versus-copy\n",
      "  df['duration'] = (drop_off - pick_up).astype('timedelta64[m]')\n"
     ]
    }
   ],
   "source": [
    "#We create a list with the name of the .csv files\n",
    "taxi_data = ['yellow_tripdata_2018-0'+str(i)+'.csv' for i in range(1,7)]\n",
    "\n",
    "### Preparing data for each month ----------\n",
    "\n",
    "# Creating dataframe for prepared data (all months)\n",
    "trip_duration_and_distance_df = pd.DataFrame(data={\"duration\":[], \"trip_distance\":[]})\n",
    "\n",
    "# Setting the path to the files\n",
    "path = \"D:/\"\n",
    "\n",
    "# Loop for each file\n",
    "for month_data in taxi_data:\n",
    "    month_data_df = pd.read_csv(path + month_data)\n",
    "    \n",
    "    # Selecting interesting columns\n",
    "    tmp_trip_duration_df = month_data_df[[\"tpep_pickup_datetime\", \"tpep_dropoff_datetime\", \"trip_distance\"]]\n",
    "    \n",
    "    # Calculating trip duration using before defined function\n",
    "    trip_duration_df = calculate_trip_duration(tmp_trip_duration_df)[[\"duration\", \"trip_distance\"]]\n",
    "    \n",
    "    # Concatenating prepared data to the dataframe with all months\n",
    "    trip_duration_and_distance_df = pd.concat([trip_duration_and_distance_df, trip_duration_df])\n",
    "    \n",
    "    # Deleting unnecessary variables for better memory managing\n",
    "    del trip_duration_df, tmp_trip_duration_df, month_data_df"
   ]
  },
  {
   "cell_type": "code",
   "execution_count": null,
   "metadata": {},
   "outputs": [],
   "source": [
    "# Saving to csv\n",
    "# trip_duration_and_distance_df.to_csv(\"D:/trip_duration_and_distance.csv\")"
   ]
  },
  {
   "cell_type": "code",
   "execution_count": 5,
   "metadata": {},
   "outputs": [
    {
     "data": {
      "text/html": [
       "<div>\n",
       "<style scoped>\n",
       "    .dataframe tbody tr th:only-of-type {\n",
       "        vertical-align: middle;\n",
       "    }\n",
       "\n",
       "    .dataframe tbody tr th {\n",
       "        vertical-align: top;\n",
       "    }\n",
       "\n",
       "    .dataframe thead th {\n",
       "        text-align: right;\n",
       "    }\n",
       "</style>\n",
       "<table border=\"1\" class=\"dataframe\">\n",
       "  <thead>\n",
       "    <tr style=\"text-align: right;\">\n",
       "      <th></th>\n",
       "      <th>duration</th>\n",
       "      <th>trip_distance</th>\n",
       "    </tr>\n",
       "  </thead>\n",
       "  <tbody>\n",
       "    <tr>\n",
       "      <th>0</th>\n",
       "      <td>3.0</td>\n",
       "      <td>0.5</td>\n",
       "    </tr>\n",
       "    <tr>\n",
       "      <th>1</th>\n",
       "      <td>18.0</td>\n",
       "      <td>2.7</td>\n",
       "    </tr>\n",
       "    <tr>\n",
       "      <th>2</th>\n",
       "      <td>5.0</td>\n",
       "      <td>0.8</td>\n",
       "    </tr>\n",
       "    <tr>\n",
       "      <th>3</th>\n",
       "      <td>32.0</td>\n",
       "      <td>10.2</td>\n",
       "    </tr>\n",
       "    <tr>\n",
       "      <th>4</th>\n",
       "      <td>17.0</td>\n",
       "      <td>2.5</td>\n",
       "    </tr>\n",
       "  </tbody>\n",
       "</table>\n",
       "</div>"
      ],
      "text/plain": [
       "   duration  trip_distance\n",
       "0       3.0            0.5\n",
       "1      18.0            2.7\n",
       "2       5.0            0.8\n",
       "3      32.0           10.2\n",
       "4      17.0            2.5"
      ]
     },
     "execution_count": 5,
     "metadata": {},
     "output_type": "execute_result"
    }
   ],
   "source": [
    "trip_duration_and_distance_df.head()"
   ]
  },
  {
   "cell_type": "code",
   "execution_count": 11,
   "metadata": {},
   "outputs": [
    {
     "data": {
      "text/html": [
       "<div>\n",
       "<style scoped>\n",
       "    .dataframe tbody tr th:only-of-type {\n",
       "        vertical-align: middle;\n",
       "    }\n",
       "\n",
       "    .dataframe tbody tr th {\n",
       "        vertical-align: top;\n",
       "    }\n",
       "\n",
       "    .dataframe thead th {\n",
       "        text-align: right;\n",
       "    }\n",
       "</style>\n",
       "<table border=\"1\" class=\"dataframe\">\n",
       "  <thead>\n",
       "    <tr style=\"text-align: right;\">\n",
       "      <th></th>\n",
       "      <th>duration</th>\n",
       "      <th>trip_distance</th>\n",
       "    </tr>\n",
       "  </thead>\n",
       "  <tbody>\n",
       "    <tr>\n",
       "      <th>count</th>\n",
       "      <td>5.392574e+07</td>\n",
       "      <td>5.392574e+07</td>\n",
       "    </tr>\n",
       "    <tr>\n",
       "      <th>mean</th>\n",
       "      <td>1.604486e+01</td>\n",
       "      <td>2.900861e+00</td>\n",
       "    </tr>\n",
       "    <tr>\n",
       "      <th>std</th>\n",
       "      <td>1.455252e+03</td>\n",
       "      <td>2.607412e+01</td>\n",
       "    </tr>\n",
       "    <tr>\n",
       "      <th>min</th>\n",
       "      <td>-1.066961e+07</td>\n",
       "      <td>0.000000e+00</td>\n",
       "    </tr>\n",
       "    <tr>\n",
       "      <th>50%</th>\n",
       "      <td>1.000000e+01</td>\n",
       "      <td>1.600000e+00</td>\n",
       "    </tr>\n",
       "    <tr>\n",
       "      <th>60%</th>\n",
       "      <td>1.300000e+01</td>\n",
       "      <td>2.000000e+00</td>\n",
       "    </tr>\n",
       "    <tr>\n",
       "      <th>70%</th>\n",
       "      <td>1.600000e+01</td>\n",
       "      <td>2.560000e+00</td>\n",
       "    </tr>\n",
       "    <tr>\n",
       "      <th>80%</th>\n",
       "      <td>2.000000e+01</td>\n",
       "      <td>3.600000e+00</td>\n",
       "    </tr>\n",
       "    <tr>\n",
       "      <th>90%</th>\n",
       "      <td>2.700000e+01</td>\n",
       "      <td>6.710000e+00</td>\n",
       "    </tr>\n",
       "    <tr>\n",
       "      <th>95%</th>\n",
       "      <td>3.600000e+01</td>\n",
       "      <td>1.073000e+01</td>\n",
       "    </tr>\n",
       "    <tr>\n",
       "      <th>99%</th>\n",
       "      <td>6.100000e+01</td>\n",
       "      <td>1.890000e+01</td>\n",
       "    </tr>\n",
       "    <tr>\n",
       "      <th>max</th>\n",
       "      <td>8.852000e+03</td>\n",
       "      <td>1.894838e+05</td>\n",
       "    </tr>\n",
       "  </tbody>\n",
       "</table>\n",
       "</div>"
      ],
      "text/plain": [
       "           duration  trip_distance\n",
       "count  5.392574e+07   5.392574e+07\n",
       "mean   1.604486e+01   2.900861e+00\n",
       "std    1.455252e+03   2.607412e+01\n",
       "min   -1.066961e+07   0.000000e+00\n",
       "50%    1.000000e+01   1.600000e+00\n",
       "60%    1.300000e+01   2.000000e+00\n",
       "70%    1.600000e+01   2.560000e+00\n",
       "80%    2.000000e+01   3.600000e+00\n",
       "90%    2.700000e+01   6.710000e+00\n",
       "95%    3.600000e+01   1.073000e+01\n",
       "99%    6.100000e+01   1.890000e+01\n",
       "max    8.852000e+03   1.894838e+05"
      ]
     },
     "execution_count": 11,
     "metadata": {},
     "output_type": "execute_result"
    }
   ],
   "source": [
    "trip_duration_and_distance_df.describe(percentiles=[0.5, 0.6, 0.7, 0.8, 0.9, 0.95, 0.99])"
   ]
  },
  {
   "cell_type": "markdown",
   "metadata": {},
   "source": [
    "The next step is data cleaning. As in RQ3 , duration is not possible to be less than 0.\n",
    "It is also reasonable to filter out values for duration and trip_distance which are equal to 0."
   ]
  },
  {
   "cell_type": "markdown",
   "metadata": {},
   "source": [
    "* According to the analysis od percentiles we can observe that there are outliers both in duration and trip_distance data. \n",
    "\n",
    "For example, for the 99th percentile trip_distance is about 19 miles, and the maximum is almost 190,000. It seems reasonable to filter trips with a distance less than 500 miles."
   ]
  },
  {
   "cell_type": "code",
   "execution_count": 13,
   "metadata": {},
   "outputs": [],
   "source": [
    "filtered_trip_duration_and_distance_df = trip_duration_and_distance_df[(trip_duration_and_distance_df.duration.between(1,100)) & (trip_duration_and_distance_df.trip_distance.between(0, 100))]"
   ]
  },
  {
   "cell_type": "code",
   "execution_count": 14,
   "metadata": {},
   "outputs": [
    {
     "data": {
      "text/html": [
       "<div>\n",
       "<style scoped>\n",
       "    .dataframe tbody tr th:only-of-type {\n",
       "        vertical-align: middle;\n",
       "    }\n",
       "\n",
       "    .dataframe tbody tr th {\n",
       "        vertical-align: top;\n",
       "    }\n",
       "\n",
       "    .dataframe thead th {\n",
       "        text-align: right;\n",
       "    }\n",
       "</style>\n",
       "<table border=\"1\" class=\"dataframe\">\n",
       "  <thead>\n",
       "    <tr style=\"text-align: right;\">\n",
       "      <th></th>\n",
       "      <th>duration</th>\n",
       "      <th>trip_distance</th>\n",
       "    </tr>\n",
       "  </thead>\n",
       "  <tbody>\n",
       "    <tr>\n",
       "      <th>count</th>\n",
       "      <td>5.333305e+07</td>\n",
       "      <td>5.333305e+07</td>\n",
       "    </tr>\n",
       "    <tr>\n",
       "      <th>mean</th>\n",
       "      <td>1.357759e+01</td>\n",
       "      <td>2.908568e+00</td>\n",
       "    </tr>\n",
       "    <tr>\n",
       "      <th>std</th>\n",
       "      <td>1.125042e+01</td>\n",
       "      <td>3.705891e+00</td>\n",
       "    </tr>\n",
       "    <tr>\n",
       "      <th>min</th>\n",
       "      <td>1.000000e+00</td>\n",
       "      <td>0.000000e+00</td>\n",
       "    </tr>\n",
       "    <tr>\n",
       "      <th>50%</th>\n",
       "      <td>1.000000e+01</td>\n",
       "      <td>1.600000e+00</td>\n",
       "    </tr>\n",
       "    <tr>\n",
       "      <th>60%</th>\n",
       "      <td>1.300000e+01</td>\n",
       "      <td>2.000000e+00</td>\n",
       "    </tr>\n",
       "    <tr>\n",
       "      <th>70%</th>\n",
       "      <td>1.600000e+01</td>\n",
       "      <td>2.580000e+00</td>\n",
       "    </tr>\n",
       "    <tr>\n",
       "      <th>80%</th>\n",
       "      <td>2.000000e+01</td>\n",
       "      <td>3.600000e+00</td>\n",
       "    </tr>\n",
       "    <tr>\n",
       "      <th>90%</th>\n",
       "      <td>2.700000e+01</td>\n",
       "      <td>6.730000e+00</td>\n",
       "    </tr>\n",
       "    <tr>\n",
       "      <th>95%</th>\n",
       "      <td>3.500000e+01</td>\n",
       "      <td>1.071000e+01</td>\n",
       "    </tr>\n",
       "    <tr>\n",
       "      <th>max</th>\n",
       "      <td>1.000000e+02</td>\n",
       "      <td>9.510000e+01</td>\n",
       "    </tr>\n",
       "  </tbody>\n",
       "</table>\n",
       "</div>"
      ],
      "text/plain": [
       "           duration  trip_distance\n",
       "count  5.333305e+07   5.333305e+07\n",
       "mean   1.357759e+01   2.908568e+00\n",
       "std    1.125042e+01   3.705891e+00\n",
       "min    1.000000e+00   0.000000e+00\n",
       "50%    1.000000e+01   1.600000e+00\n",
       "60%    1.300000e+01   2.000000e+00\n",
       "70%    1.600000e+01   2.580000e+00\n",
       "80%    2.000000e+01   3.600000e+00\n",
       "90%    2.700000e+01   6.730000e+00\n",
       "95%    3.500000e+01   1.071000e+01\n",
       "max    1.000000e+02   9.510000e+01"
      ]
     },
     "execution_count": 14,
     "metadata": {},
     "output_type": "execute_result"
    }
   ],
   "source": [
    "filtered_trip_duration_and_distance_df.describe(percentiles=[0.5, 0.6, 0.7, 0.8, 0.9, 0.95])"
   ]
  },
  {
   "cell_type": "code",
   "execution_count": 23,
   "metadata": {},
   "outputs": [
    {
     "data": {
      "image/png": "[encoded data removed]",
      "text/plain": [
       "<Figure size 432x288 with 1 Axes>"
      ]
     },
     "metadata": {},
     "output_type": "display_data"
    }
   ],
   "source": [
    "# Plotting the density histogram\n",
    "h1 = plt.hist(filtered_trip_duration_and_distance_df.trip_distance, density=True, bins=100, range=(0, 30), color=\"green\")"
   ]
  },
  {
   "cell_type": "code",
   "execution_count": 24,
   "metadata": {},
   "outputs": [
    {
     "data": {
      "image/png": "[encoded data removed]",
      "text/plain": [
       "<Figure size 432x288 with 1 Axes>"
      ]
     },
     "metadata": {},
     "output_type": "display_data"
    }
   ],
   "source": [
    "# Plotting Cumulative Density Function\n",
    "cdf = plt.hist(filtered_trip_duration_and_distance_df.trip_distance, cumulative=True, bins=100, range=(0,30), color=\"red\")"
   ]
  },
  {
   "cell_type": "markdown",
   "metadata": {},
   "source": [
    " Describe plots/histograms above!"
   ]
  },
  {
   "cell_type": "markdown",
   "metadata": {},
   "source": [
    "### Correlation between distance and duration of the trip.\n",
    "\n",
    "After filtering the data, we can check the correlation."
   ]
  },
  {
   "cell_type": "code",
   "execution_count": 30,
   "metadata": {},
   "outputs": [],
   "source": [
    "# Filtering duration < 30 and trip_distance < 10\n",
    "filtered_trip_duration_and_distance_df2 = trip_duration_and_distance_df[(trip_duration_and_distance_df.duration.between(1,30)) & (trip_duration_and_distance_df.trip_distance.between(0, 10))]"
   ]
  },
  {
   "cell_type": "code",
   "execution_count": 33,
   "metadata": {},
   "outputs": [
    {
     "name": "stderr",
     "output_type": "stream",
     "text": [
      "c:\\users\\asia\\appdata\\local\\programs\\python\\python36\\lib\\site-packages\\matplotlib\\axes\\_axes.py:6462: UserWarning: The 'normed' kwarg is deprecated, and has been replaced by the 'density' kwarg.\n",
      "  warnings.warn(\"The 'normed' kwarg is deprecated, and has been \"\n"
     ]
    },
    {
     "data": {
      "image/png": "[encoded data removed]",
      "text/plain": [
       "<Figure size 432x432 with 3 Axes>"
      ]
     },
     "metadata": {},
     "output_type": "display_data"
    }
   ],
   "source": [
    "with sns.axes_style('white'):\n",
    "    sns.jointplot(\"duration\", \"trip_distance\", filtered_trip_duration_and_distance_df2, kind='hex')"
   ]
  },
  {
   "cell_type": "code",
   "execution_count": null,
   "metadata": {},
   "outputs": [],
   "source": []
  },
  {
   "cell_type": "code",
   "execution_count": null,
   "metadata": {},
   "outputs": [],
   "source": []
  }
 ],
 "metadata": {
  "kernelspec": {
   "display_name": "Python 3",
   "language": "python",
   "name": "python3"
  },
  "language_info": {
   "codemirror_mode": {
    "name": "ipython",
    "version": 3
   },
   "file_extension": ".py",
   "mimetype": "text/x-python",
   "name": "python",
   "nbconvert_exporter": "python",
   "pygments_lexer": "ipython3",
   "version": "3.6.4"
  }
 },
 "nbformat": 4,
 "nbformat_minor": 2
}
